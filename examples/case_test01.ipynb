{
 "cells": [
  {
   "cell_type": "code",
   "execution_count": 40,
   "metadata": {
    "ExecuteTime": {
     "end_time": "2020-07-28T20:08:03.908401Z",
     "start_time": "2020-07-28T20:08:03.903943Z"
    }
   },
   "outputs": [],
   "source": [
    "import sys; sys.path.insert(0, '/home/adriano/rtree')\n",
    "from rtree_lightning import generate_data, compute_hits, compute_hits_rtree\n",
    "import timeit\n",
    "import numpy as np\n",
    "import matplotlib.pyplot as plt\n",
    "from descartes import PolygonPatch\n",
    "import timeit"
   ]
  },
  {
   "cell_type": "code",
   "execution_count": 2,
   "metadata": {
    "ExecuteTime": {
     "end_time": "2020-07-28T18:52:37.787054Z",
     "start_time": "2020-07-28T18:52:37.276510Z"
    }
   },
   "outputs": [
    {
     "name": "stdout",
     "output_type": "stream",
     "text": [
      "The function generate_data took 0.5029226409969851 seconds to complete.\n"
     ]
    }
   ],
   "source": [
    "grid, points = generate_data()"
   ]
  },
  {
   "cell_type": "code",
   "execution_count": 3,
   "metadata": {
    "ExecuteTime": {
     "end_time": "2020-07-28T18:52:37.830132Z",
     "start_time": "2020-07-28T18:52:37.796000Z"
    }
   },
   "outputs": [
    {
     "data": {
      "text/html": [
       "<div>\n",
       "<style scoped>\n",
       "    .dataframe tbody tr th:only-of-type {\n",
       "        vertical-align: middle;\n",
       "    }\n",
       "\n",
       "    .dataframe tbody tr th {\n",
       "        vertical-align: top;\n",
       "    }\n",
       "\n",
       "    .dataframe thead th {\n",
       "        text-align: right;\n",
       "    }\n",
       "</style>\n",
       "<table border=\"1\" class=\"dataframe\">\n",
       "  <thead>\n",
       "    <tr style=\"text-align: right;\">\n",
       "      <th></th>\n",
       "      <th>geometry</th>\n",
       "    </tr>\n",
       "  </thead>\n",
       "  <tbody>\n",
       "    <tr>\n",
       "      <th>0</th>\n",
       "      <td>POLYGON ((0.00000 10.00000, 10.00000 10.00000,...</td>\n",
       "    </tr>\n",
       "    <tr>\n",
       "      <th>1</th>\n",
       "      <td>POLYGON ((10.00000 10.00000, 20.00000 10.00000...</td>\n",
       "    </tr>\n",
       "    <tr>\n",
       "      <th>2</th>\n",
       "      <td>POLYGON ((20.00000 10.00000, 30.00000 10.00000...</td>\n",
       "    </tr>\n",
       "    <tr>\n",
       "      <th>3</th>\n",
       "      <td>POLYGON ((30.00000 10.00000, 40.00000 10.00000...</td>\n",
       "    </tr>\n",
       "    <tr>\n",
       "      <th>4</th>\n",
       "      <td>POLYGON ((40.00000 10.00000, 50.00000 10.00000...</td>\n",
       "    </tr>\n",
       "  </tbody>\n",
       "</table>\n",
       "</div>"
      ],
      "text/plain": [
       "                                            geometry\n",
       "0  POLYGON ((0.00000 10.00000, 10.00000 10.00000,...\n",
       "1  POLYGON ((10.00000 10.00000, 20.00000 10.00000...\n",
       "2  POLYGON ((20.00000 10.00000, 30.00000 10.00000...\n",
       "3  POLYGON ((30.00000 10.00000, 40.00000 10.00000...\n",
       "4  POLYGON ((40.00000 10.00000, 50.00000 10.00000..."
      ]
     },
     "execution_count": 3,
     "metadata": {},
     "output_type": "execute_result"
    }
   ],
   "source": [
    "grid.head()"
   ]
  },
  {
   "cell_type": "code",
   "execution_count": 4,
   "metadata": {
    "ExecuteTime": {
     "end_time": "2020-07-28T18:52:37.899822Z",
     "start_time": "2020-07-28T18:52:37.833843Z"
    }
   },
   "outputs": [
    {
     "data": {
      "text/html": [
       "<div>\n",
       "<style scoped>\n",
       "    .dataframe tbody tr th:only-of-type {\n",
       "        vertical-align: middle;\n",
       "    }\n",
       "\n",
       "    .dataframe tbody tr th {\n",
       "        vertical-align: top;\n",
       "    }\n",
       "\n",
       "    .dataframe thead th {\n",
       "        text-align: right;\n",
       "    }\n",
       "</style>\n",
       "<table border=\"1\" class=\"dataframe\">\n",
       "  <thead>\n",
       "    <tr style=\"text-align: right;\">\n",
       "      <th></th>\n",
       "      <th>x</th>\n",
       "      <th>y</th>\n",
       "      <th>geometry</th>\n",
       "    </tr>\n",
       "  </thead>\n",
       "  <tbody>\n",
       "    <tr>\n",
       "      <th>0</th>\n",
       "      <td>47.165909</td>\n",
       "      <td>61.685717</td>\n",
       "      <td>POINT (47.16591 61.68572)</td>\n",
       "    </tr>\n",
       "    <tr>\n",
       "      <th>1</th>\n",
       "      <td>30.460201</td>\n",
       "      <td>57.384898</td>\n",
       "      <td>POINT (30.46020 57.38490)</td>\n",
       "    </tr>\n",
       "    <tr>\n",
       "      <th>2</th>\n",
       "      <td>68.563975</td>\n",
       "      <td>49.703944</td>\n",
       "      <td>POINT (68.56397 49.70394)</td>\n",
       "    </tr>\n",
       "    <tr>\n",
       "      <th>3</th>\n",
       "      <td>14.467869</td>\n",
       "      <td>17.283633</td>\n",
       "      <td>POINT (14.46787 17.28363)</td>\n",
       "    </tr>\n",
       "    <tr>\n",
       "      <th>4</th>\n",
       "      <td>50.042627</td>\n",
       "      <td>6.212348</td>\n",
       "      <td>POINT (50.04263 6.21235)</td>\n",
       "    </tr>\n",
       "  </tbody>\n",
       "</table>\n",
       "</div>"
      ],
      "text/plain": [
       "           x          y                   geometry\n",
       "0  47.165909  61.685717  POINT (47.16591 61.68572)\n",
       "1  30.460201  57.384898  POINT (30.46020 57.38490)\n",
       "2  68.563975  49.703944  POINT (68.56397 49.70394)\n",
       "3  14.467869  17.283633  POINT (14.46787 17.28363)\n",
       "4  50.042627   6.212348   POINT (50.04263 6.21235)"
      ]
     },
     "execution_count": 4,
     "metadata": {},
     "output_type": "execute_result"
    }
   ],
   "source": [
    "points.head()"
   ]
  },
  {
   "cell_type": "code",
   "execution_count": 5,
   "metadata": {
    "ExecuteTime": {
     "end_time": "2020-07-28T18:52:37.975363Z",
     "start_time": "2020-07-28T18:52:37.902974Z"
    },
    "scrolled": true
   },
   "outputs": [],
   "source": [
    "# normal_time = list()\n",
    "# rtree_time = list()\n",
    "\n",
    "# for i in range(20):\n",
    "#     start_execution_time = timeit.default_timer()\n",
    "#     _ = compute_hits(grid, points)\n",
    "#     end_execution_time = timeit.default_timer()\n",
    "#     normal_time.append(end_execution_time-start_execution_time)\n",
    "    \n",
    "#     start_execution_time = timeit.default_timer()\n",
    "#     _ = compute_hits_rtree(grid, points)\n",
    "#     end_execution_time = timeit.default_timer()\n",
    "#     rtree_time.append(end_execution_time-start_execution_time)\n",
    "    \n",
    "# _, ax = plt.subplots()\n",
    "# _ = ax.boxplot([normal_time, rtree_time])\n",
    "# ax.set_title(\"Comparation with 100 points\")\n",
    "# ax.set_xticklabels(['Default', 'R-tree'])"
   ]
  },
  {
   "cell_type": "code",
   "execution_count": 28,
   "metadata": {
    "ExecuteTime": {
     "end_time": "2020-07-28T19:25:09.599535Z",
     "start_time": "2020-07-28T19:25:09.594632Z"
    }
   },
   "outputs": [
    {
     "data": {
      "text/plain": [
       "20"
      ]
     },
     "execution_count": 28,
     "metadata": {},
     "output_type": "execute_result"
    }
   ],
   "source": []
  },
  {
   "cell_type": "code",
   "execution_count": null,
   "metadata": {
    "ExecuteTime": {
     "start_time": "2020-07-28T23:17:27.692Z"
    },
    "scrolled": true
   },
   "outputs": [
    {
     "name": "stdout",
     "output_type": "stream",
     "text": [
      "The function generate_data took 2.4461094440048328 seconds to complete.\n",
      "The function compute_hits took 0.7769752009917283 seconds to complete.\n",
      "The function compute_hits_rtree took 4.796666385998833 seconds to complete.\n",
      "The function generate_data took 2.327370841987431 seconds to complete.\n",
      "The function compute_hits took 0.8662108120042831 seconds to complete.\n",
      "The function compute_hits_rtree took 4.854836137994425 seconds to complete.\n",
      "The function generate_data took 2.3247182329942007 seconds to complete.\n",
      "The function compute_hits took 0.853061344998423 seconds to complete.\n",
      "The function compute_hits_rtree took 4.836631601996487 seconds to complete.\n",
      "The function generate_data took 2.3799982589989668 seconds to complete.\n",
      "The function compute_hits took 1.2664058899972588 seconds to complete.\n",
      "The function compute_hits_rtree took 4.793256326011033 seconds to complete.\n",
      "The function generate_data took 2.5072221250011353 seconds to complete.\n",
      "The function compute_hits took 0.8027816719986731 seconds to complete.\n",
      "The function compute_hits_rtree took 4.6683812539995415 seconds to complete.\n",
      "The function generate_data took 2.3461764750099974 seconds to complete.\n",
      "The function compute_hits took 0.9835779839922907 seconds to complete.\n",
      "The function compute_hits_rtree took 4.633409203001065 seconds to complete.\n",
      "The function generate_data took 2.3977193359896773 seconds to complete.\n",
      "The function compute_hits took 1.0832281409966527 seconds to complete.\n",
      "The function compute_hits_rtree took 4.783855892004794 seconds to complete.\n",
      "The function generate_data took 2.3650650799972937 seconds to complete.\n",
      "The function compute_hits took 0.904446740009007 seconds to complete.\n",
      "The function compute_hits_rtree took 4.339963055012049 seconds to complete.\n",
      "The function generate_data took 2.1080889250006294 seconds to complete.\n",
      "The function compute_hits took 0.967651451996062 seconds to complete.\n",
      "The function compute_hits_rtree took 3.8628802790044574 seconds to complete.\n",
      "The function generate_data took 1.935531726005138 seconds to complete.\n",
      "The function compute_hits took 0.8309869590011658 seconds to complete.\n",
      "The function compute_hits_rtree took 3.899229391012341 seconds to complete.\n",
      "The function generate_data took 1.8279790679953294 seconds to complete.\n",
      "The function compute_hits took 1.5801209150085924 seconds to complete.\n",
      "The function compute_hits_rtree took 3.8629096759977983 seconds to complete.\n",
      "The function generate_data took 1.839235238992842 seconds to complete.\n",
      "The function compute_hits took 1.41274494001118 seconds to complete.\n",
      "The function compute_hits_rtree took 3.907085126993479 seconds to complete.\n",
      "The function generate_data took 1.9239338980114553 seconds to complete.\n",
      "The function compute_hits took 1.6322335900040343 seconds to complete.\n",
      "The function compute_hits_rtree took 4.571250011998927 seconds to complete.\n",
      "The function generate_data took 2.4790693719987758 seconds to complete.\n",
      "The function compute_hits took 1.9129724880040158 seconds to complete.\n",
      "The function compute_hits_rtree took 4.786740434996318 seconds to complete.\n",
      "The function generate_data took 2.41508170599991 seconds to complete.\n",
      "The function compute_hits took 1.5137930570053868 seconds to complete.\n",
      "The function compute_hits_rtree took 5.077533746996778 seconds to complete.\n",
      "The function generate_data took 2.6627953380084364 seconds to complete.\n",
      "The function compute_hits took 1.9758291080070194 seconds to complete.\n",
      "The function compute_hits_rtree took 5.164052621999872 seconds to complete.\n",
      "The function generate_data took 2.562890099012293 seconds to complete.\n",
      "The function compute_hits took 2.0632057830080157 seconds to complete.\n",
      "The function compute_hits_rtree took 5.078637808008352 seconds to complete.\n",
      "The function generate_data took 2.5448431109980447 seconds to complete.\n",
      "The function compute_hits took 1.7713780610065442 seconds to complete.\n",
      "The function compute_hits_rtree took 5.103835494999657 seconds to complete.\n",
      "The function generate_data took 2.5486566420004237 seconds to complete.\n",
      "The function compute_hits took 1.7784048410103424 seconds to complete.\n",
      "The function compute_hits_rtree took 5.010164495004574 seconds to complete.\n",
      "The function generate_data took 2.43426371300302 seconds to complete.\n",
      "The function compute_hits took 1.6861590539920144 seconds to complete.\n",
      "The function compute_hits_rtree took 4.82243779298733 seconds to complete.\n",
      "The function generate_data took 2.202982572009205 seconds to complete.\n",
      "The function compute_hits took 7.901697692999733 seconds to complete.\n",
      "The function compute_hits_rtree took 4.610351374998572 seconds to complete.\n",
      "The function generate_data took 2.423886128992308 seconds to complete.\n",
      "The function compute_hits took 8.308568660009769 seconds to complete.\n",
      "The function compute_hits_rtree took 4.620897390996106 seconds to complete.\n",
      "The function generate_data took 2.3805896949925227 seconds to complete.\n",
      "The function compute_hits took 8.482018027003505 seconds to complete.\n",
      "The function compute_hits_rtree took 4.933304086007411 seconds to complete.\n",
      "The function generate_data took 2.52453676899313 seconds to complete.\n",
      "The function compute_hits took 10.160530346998712 seconds to complete.\n",
      "The function compute_hits_rtree took 4.86067206300504 seconds to complete.\n",
      "The function generate_data took 2.5501152010110673 seconds to complete.\n",
      "The function compute_hits took 8.351923062000424 seconds to complete.\n",
      "The function compute_hits_rtree took 4.79598193000129 seconds to complete.\n",
      "The function generate_data took 2.434044209003332 seconds to complete.\n",
      "The function compute_hits took 8.549633387010545 seconds to complete.\n",
      "The function compute_hits_rtree took 4.933736375009175 seconds to complete.\n",
      "The function generate_data took 2.5318248859985033 seconds to complete.\n",
      "The function compute_hits took 8.0282953690039 seconds to complete.\n",
      "The function compute_hits_rtree took 4.840100044995779 seconds to complete.\n",
      "The function generate_data took 2.471185342001263 seconds to complete.\n",
      "The function compute_hits took 9.110163739998825 seconds to complete.\n",
      "The function compute_hits_rtree took 4.913972898008069 seconds to complete.\n",
      "The function generate_data took 2.5069701640022686 seconds to complete.\n",
      "The function compute_hits took 9.020238501005224 seconds to complete.\n",
      "The function compute_hits_rtree took 4.960023351988639 seconds to complete.\n",
      "The function generate_data took 2.442560855008196 seconds to complete.\n",
      "The function compute_hits took 9.624518568991334 seconds to complete.\n",
      "The function compute_hits_rtree took 4.996905799998785 seconds to complete.\n",
      "The function generate_data took 2.586127208007383 seconds to complete.\n",
      "The function compute_hits took 85.49122538499068 seconds to complete.\n",
      "The function compute_hits_rtree took 4.861150070006261 seconds to complete.\n",
      "The function generate_data took 2.4809625820053043 seconds to complete.\n",
      "The function compute_hits took 85.30795370100532 seconds to complete.\n",
      "The function compute_hits_rtree took 4.740208371003973 seconds to complete.\n",
      "The function generate_data took 2.463218841003254 seconds to complete.\n",
      "The function compute_hits took 83.95838461701351 seconds to complete.\n",
      "The function compute_hits_rtree took 5.11784002299828 seconds to complete.\n",
      "The function generate_data took 2.4074819139932515 seconds to complete.\n",
      "The function compute_hits took 81.76172157899418 seconds to complete.\n",
      "The function compute_hits_rtree took 4.816888906003442 seconds to complete.\n",
      "The function generate_data took 2.4708974230015883 seconds to complete.\n",
      "The function compute_hits took 79.94539340298797 seconds to complete.\n",
      "The function compute_hits_rtree took 3.5100620050070575 seconds to complete.\n",
      "The function generate_data took 1.925445070999558 seconds to complete.\n",
      "The function compute_hits took 70.10887526199804 seconds to complete.\n",
      "The function compute_hits_rtree took 4.461468911002157 seconds to complete.\n",
      "The function generate_data took 2.156490492998273 seconds to complete.\n",
      "The function compute_hits took 76.95044042600784 seconds to complete.\n",
      "The function compute_hits_rtree took 4.578178643001593 seconds to complete.\n",
      "The function generate_data took 2.363370434002718 seconds to complete.\n",
      "The function compute_hits took 77.12452612600464 seconds to complete.\n"
     ]
    },
    {
     "name": "stdout",
     "output_type": "stream",
     "text": [
      "The function compute_hits_rtree took 5.018298848008271 seconds to complete.\n",
      "The function generate_data took 2.466468357000849 seconds to complete.\n",
      "The function compute_hits took 75.34575927800324 seconds to complete.\n",
      "The function compute_hits_rtree took 4.531278491005651 seconds to complete.\n",
      "The function generate_data took 2.3859148219926283 seconds to complete.\n",
      "The function compute_hits took 83.67334382201079 seconds to complete.\n",
      "The function compute_hits_rtree took 4.520387919998029 seconds to complete.\n",
      "The function generate_data took 3.1897815669944976 seconds to complete.\n",
      "The function compute_hits took 880.2337567639916 seconds to complete.\n",
      "The function compute_hits_rtree took 8.343662913001026 seconds to complete.\n",
      "The function generate_data took 3.640275115001714 seconds to complete.\n",
      "The function compute_hits took 778.8566446009936 seconds to complete.\n",
      "The function compute_hits_rtree took 7.185092359999544 seconds to complete.\n",
      "The function generate_data took 3.2922693739965325 seconds to complete.\n",
      "The function compute_hits took 787.948756206999 seconds to complete.\n",
      "The function compute_hits_rtree took 7.3226237970084185 seconds to complete.\n",
      "The function generate_data took 3.2032256810052786 seconds to complete.\n",
      "The function compute_hits took 746.5574058740021 seconds to complete.\n",
      "The function compute_hits_rtree took 6.141400018997956 seconds to complete.\n",
      "The function generate_data took 2.7304215470066993 seconds to complete.\n"
     ]
    }
   ],
   "source": [
    "n_samples = [10, 20, 100, 1000, 10000, 100000]\n",
    "resolutions = [5, 10]\n",
    "upper_limits = [100]\n",
    "\n",
    "results = list()\n",
    "for upper_limit in upper_limits:\n",
    "    for resolution in resolutions:\n",
    "        for n_sample in n_samples:\n",
    "            rtree_name = 'rtree_grid_ul%s_re%s_ns%s.png'%(str(upper_limit).zfill(6), \n",
    "                         str(resolution).zfill(6), \n",
    "                         str(n_sample).zfill(6))\n",
    "            normal_name = 'normal_grid_ul%s_re%s_ns%s.png'%(str(upper_limit).zfill(6), \n",
    "                         str(resolution).zfill(6), \n",
    "                         str(n_sample).zfill(6))\n",
    "            \n",
    "            result = dict(normal=list(), rtree=list())\n",
    "            params = dict(upper_limit=upper_limit, resolution=resolution,\n",
    "                         n_samples=n_sample)\n",
    "            \n",
    "            for i in range(10):\n",
    "                grid, points = generate_data(**params)\n",
    "                \n",
    "                start = timeit.default_timer()\n",
    "                df_ref = compute_hits(grid, points)\n",
    "                end = timeit.default_timer()\n",
    "                result['normal'].append(end-start)\n",
    "                \n",
    "                start = timeit.default_timer()\n",
    "                df_ref = compute_hits_rtree(grid, points)\n",
    "                end = timeit.default_timer()\n",
    "                result['rtree'].append(end-start)\n",
    "                \n",
    "            result = dict(**params, **result)\n",
    "            results.append(result)\n",
    "            "
   ]
  },
  {
   "cell_type": "code",
   "execution_count": 45,
   "metadata": {
    "ExecuteTime": {
     "end_time": "2020-07-28T21:59:29.061424Z",
     "start_time": "2020-07-28T21:59:29.054293Z"
    }
   },
   "outputs": [
    {
     "data": {
      "text/plain": [
       "{'upper_limit': 100,\n",
       " 'resolution': 2,\n",
       " 'n_samples': 10,\n",
       " 'normal': [2.860068837995641,\n",
       "  2.595401207989198,\n",
       "  3.7126728689909214,\n",
       "  3.863931184998364,\n",
       "  4.340829310007393,\n",
       "  5.558256404998247,\n",
       "  5.163890249008546,\n",
       "  2.3498855420039035,\n",
       "  2.2582366620044922,\n",
       "  3.177470232010819],\n",
       " 'rtree': [19.67630472900055,\n",
       "  17.017150420011603,\n",
       "  17.85263414400106,\n",
       "  25.809548632008955,\n",
       "  25.775168841995765,\n",
       "  26.465262495999923,\n",
       "  19.464597149999463,\n",
       "  16.143502649007132,\n",
       "  16.478046807009378,\n",
       "  16.111038996998104]}"
      ]
     },
     "execution_count": 45,
     "metadata": {},
     "output_type": "execute_result"
    }
   ],
   "source": [
    "results[0]"
   ]
  },
  {
   "cell_type": "code",
   "execution_count": 72,
   "metadata": {
    "ExecuteTime": {
     "end_time": "2020-07-28T23:16:58.437554Z",
     "start_time": "2020-07-28T23:16:49.539707Z"
    }
   },
   "outputs": [
    {
     "data": {
      "image/png": "[encoded data removed]",
      "text/plain": [
       "<Figure size 1440x2160 with 12 Axes>"
      ]
     },
     "metadata": {
      "needs_background": "dark"
     },
     "output_type": "display_data"
    }
   ],
   "source": [
    "res = results\n",
    "fig, axs = plt.subplots(4, 3, figsize=(20, 30))\n",
    "\n",
    "for i, ax in enumerate(axs.flat):\n",
    "    info = [results[i]['n_samples'], results[i]['resolution'],\n",
    "            results[i]['upper_limit']]\n",
    "    ax.set_title('%d samples\\nResolution: %d, Limits: 0-%d'%(*info, ))\n",
    "    ax.boxplot([results[i]['normal'], results[i]['rtree']])\n",
    "plt.savefig('summary.png', dpi=100, bbox_inches='tight', transparent=False, \n",
    "            pad_inches=0.1)"
   ]
  }
 ],
 "metadata": {
  "kernelspec": {
   "display_name": "Python 3",
   "language": "python",
   "name": "python3"
  },
  "language_info": {
   "codemirror_mode": {
    "name": "ipython",
    "version": 3
   },
   "file_extension": ".py",
   "mimetype": "text/x-python",
   "name": "python",
   "nbconvert_exporter": "python",
   "pygments_lexer": "ipython3",
   "version": "3.7.0"
  }
 },
 "nbformat": 4,
 "nbformat_minor": 2
}
