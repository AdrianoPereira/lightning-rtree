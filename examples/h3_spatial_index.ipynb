{
 "cells": [
  {
   "cell_type": "code",
   "execution_count": 3,
   "metadata": {
    "ExecuteTime": {
     "end_time": "2020-07-29T17:23:42.891290Z",
     "start_time": "2020-07-29T17:23:42.886519Z"
    }
   },
   "outputs": [
    {
     "data": {
      "text/plain": [
       "'8075fffffffffff'"
      ]
     },
     "execution_count": 3,
     "metadata": {},
     "output_type": "execute_result"
    }
   ],
   "source": [
    "import h3\n",
    "\n",
    "lat, lon = 0, 0\n",
    "resolution = 0\n",
    "h3.geo_to_h3(lat, lon, resolution)"
   ]
  }
 ],
 "metadata": {
  "kernelspec": {
   "display_name": "Python 3",
   "language": "python",
   "name": "python3"
  },
  "language_info": {
   "codemirror_mode": {
    "name": "ipython",
    "version": 3
   },
   "file_extension": ".py",
   "mimetype": "text/x-python",
   "name": "python",
   "nbconvert_exporter": "python",
   "pygments_lexer": "ipython3",
   "version": "3.7.0"
  }
 },
 "nbformat": 4,
 "nbformat_minor": 2
}
