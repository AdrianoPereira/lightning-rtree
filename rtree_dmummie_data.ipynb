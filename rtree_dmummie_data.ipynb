{
 "cells": [
  {
   "cell_type": "code",
   "execution_count": 31,
   "metadata": {
    "ExecuteTime": {
     "end_time": "2020-07-25T19:06:59.301593Z",
     "start_time": "2020-07-25T19:06:59.097747Z"
    }
   },
   "outputs": [],
   "source": [
    "import numpy as np\n",
    "import pandas as pd\n",
    "import geopandas as gpd\n",
    "import matplotlib.pyplot as plt\n",
    "from descartes import PolygonPatch\n",
    "from shapely.geometry import Point, Polygon, MultiPolygon"
   ]
  },
  {
   "cell_type": "code",
   "execution_count": 210,
   "metadata": {
    "ExecuteTime": {
     "end_time": "2020-07-25T21:13:04.956573Z",
     "start_time": "2020-07-25T21:13:04.935499Z"
    }
   },
   "outputs": [],
   "source": [
    "def generate_data(**kwargs):\n",
    "    lower_limit = kwargs.get('lower_limit', 0) \n",
    "    upper_limit = kwargs.get('upper_limit', 100) \n",
    "    n_samples = kwargs.get('n_samples', 100)\n",
    "    resolution = kwargs.get('resolution', None) \n",
    "    \n",
    "    if resolution:\n",
    "        width = resolution\n",
    "        height = resolution\n",
    "    else:\n",
    "        width = kwargs.get('width', 10)\n",
    "        height = kwargs.get('height', 10)\n",
    "    \n",
    "    grid = gpd.GeoDataFrame()\n",
    "    for row in range(lower_limit+height, upper_limit+height, height):\n",
    "        for col in range(lower_limit+width, upper_limit+width, width):\n",
    "            poly = Polygon(((col-width, row), (col, row), (col, row-height), \n",
    "                           (col-width, row-height),(col-width, row)))\n",
    "            temp = gpd.GeoDataFrame({'geometry': [poly]})\n",
    "            grid = grid.append(temp)\n",
    "    grid.reset_index(drop=True, inplace=True)\n",
    "    \n",
    "    x = np.random.uniform(lower_limit, upper_limit, n_samples)\n",
    "    y = np.random.uniform(lower_limit, upper_limit, n_samples)\n",
    "    points = gpd.GeoDataFrame(data={'x':x, 'y':y})\n",
    "    points['geometry'] = points.apply(lambda row: Point((row['x'], row['y'])), axis=1)\n",
    "    rtree_index = points.sindex\n",
    "    \n",
    "    return grid, points, rtree_index"
   ]
  },
  {
   "cell_type": "code",
   "execution_count": 213,
   "metadata": {
    "ExecuteTime": {
     "end_time": "2020-07-25T21:14:57.419484Z",
     "start_time": "2020-07-25T21:14:56.527276Z"
    },
    "scrolled": false
   },
   "outputs": [
    {
     "data": {
      "text/plain": [
       "<matplotlib.collections.PathCollection at 0x7f2219ffbe48>"
      ]
     },
     "execution_count": 213,
     "metadata": {},
     "output_type": "execute_result"
    },
    {
     "data": {
      "image/png": "[encoded data removed]",
      "text/plain": [
       "<Figure size 1080x468 with 2 Axes>"
      ]
     },
     "metadata": {
      "needs_background": "dark"
     },
     "output_type": "display_data"
    }
   ],
   "source": [
    "grid, points, rtree_index = generate_data()\n",
    "west, south, east, north = points.unary_union.bounds\n",
    "\n",
    "fig, ax = plt.subplots(1, 2, figsize=(15, 6.5))\n",
    "\n",
    "for i, g in grid['geometry'].iteritems():\n",
    "    patch = PolygonPatch(g, fc='#dcdcdc', ec='r', zorder=2)\n",
    "    patch2 = PolygonPatch(g, fc='#dcdcdc', ec='r', zorder=2)\n",
    "    ax[0].add_patch(patch)\n",
    "    ax[1].add_patch(patch2)\n",
    "\n",
    "ax[0].set_xlim(west, east)\n",
    "ax[0].set_ylim(south, north)\n",
    "ax[1].set_xlim(west, east)\n",
    "ax[1].set_ylim(south, north)\n",
    "\n",
    "ax[1].scatter(points.iloc[:, 0].values, points.iloc[:, 1].values, \n",
    "              zorder=3, marker='.', color='b')"
   ]
  }
 ],
 "metadata": {
  "kernelspec": {
   "display_name": "Python 3",
   "language": "python",
   "name": "python3"
  },
  "language_info": {
   "codemirror_mode": {
    "name": "ipython",
    "version": 3
   },
   "file_extension": ".py",
   "mimetype": "text/x-python",
   "name": "python",
   "nbconvert_exporter": "python",
   "pygments_lexer": "ipython3",
   "version": "3.7.0"
  }
 },
 "nbformat": 4,
 "nbformat_minor": 2
}
