{
 "cells": [
  {
   "cell_type": "code",
   "execution_count": 219,
   "metadata": {
    "ExecuteTime": {
     "end_time": "2020-07-25T21:29:00.468179Z",
     "start_time": "2020-07-25T21:29:00.459230Z"
    }
   },
   "outputs": [],
   "source": [
    "import numpy as np\n",
    "import pandas as pd\n",
    "import geopandas as gpd\n",
    "import matplotlib.pyplot as plt\n",
    "from descartes import PolygonPatch\n",
    "from shapely.geometry import Point, Polygon, MultiPolygon\n",
    "import rtree as rt"
   ]
  },
  {
   "cell_type": "code",
   "execution_count": 218,
   "metadata": {
    "ExecuteTime": {
     "end_time": "2020-07-25T21:28:11.973053Z",
     "start_time": "2020-07-25T21:28:11.963725Z"
    }
   },
   "outputs": [],
   "source": [
    "idx = index.Index()\n",
    "idx.insert()"
   ]
  },
  {
   "cell_type": "code",
   "execution_count": 243,
   "metadata": {
    "ExecuteTime": {
     "end_time": "2020-07-26T13:35:41.120649Z",
     "start_time": "2020-07-26T13:35:41.100469Z"
    }
   },
   "outputs": [],
   "source": [
    "def generate_data(**kwargs):\n",
    "    lower_limit = kwargs.get('lower_limit', 0) \n",
    "    upper_limit = kwargs.get('upper_limit', 100) \n",
    "    n_samples = kwargs.get('n_samples', 100)\n",
    "    resolution = kwargs.get('resolution', None) \n",
    "    \n",
    "    if resolution:\n",
    "        width = resolution\n",
    "        height = resolution\n",
    "    else:\n",
    "        width = kwargs.get('width', 10)\n",
    "        height = kwargs.get('height', 10)\n",
    "    \n",
    "    grid = gpd.GeoDataFrame()\n",
    "    for row in range(lower_limit+height, upper_limit+height, height):\n",
    "        for col in range(lower_limit+width, upper_limit+width, width):\n",
    "            poly = Polygon(((col-width, row), (col, row), (col, row-height), \n",
    "                           (col-width, row-height),(col-width, row)))\n",
    "            temp = gpd.GeoDataFrame({'geometry': [poly]})\n",
    "            grid = grid.append(temp)\n",
    "    grid.reset_index(drop=True, inplace=True)\n",
    "    \n",
    "    x = np.random.uniform(lower_limit, upper_limit, n_samples)\n",
    "    y = np.random.uniform(lower_limit, upper_limit, n_samples)\n",
    "    points = gpd.GeoDataFrame(data={'x':x, 'y':y})\n",
    "    points['geometry'] = points.apply(lambda row: Point((row['x'], row['y'])), axis=1)\n",
    "    \n",
    "    return grid, points\n",
    "\n",
    "def compute_hits(grid, points):\n",
    "    rtree = rt.index.Index()\n",
    "    grid_hits = np.zeros(grid.size)\n",
    "    \n",
    "    for i, point in points['geometry'].iteritems():\n",
    "        rtree.insert(i, point.bounds)\n",
    "    \n",
    "    df_ref = pd.DataFrame()\n",
    "    for i, row in grid.iterrows():\n",
    "        poly = row['geometry']\n",
    "        sindex_matches = list(rtree.intersection(poly.bounds))\n",
    "        points_matches = points.iloc[sindex_matches]\n",
    "        points_matches = points_matches[points_matches.intersects(poly)]\n",
    "        points_matches['grid'] = i\n",
    "        df_ref = df_ref.append(points_matches)\n",
    "    return df_ref\n",
    "    \n",
    "    "
   ]
  },
  {
   "cell_type": "code",
   "execution_count": 244,
   "metadata": {
    "ExecuteTime": {
     "end_time": "2020-07-26T13:35:48.734006Z",
     "start_time": "2020-07-26T13:35:48.428038Z"
    },
    "scrolled": true
   },
   "outputs": [],
   "source": [
    "df_ref = compute_hits(grid, points)"
   ]
  },
  {
   "cell_type": "code",
   "execution_count": 230,
   "metadata": {
    "ExecuteTime": {
     "end_time": "2020-07-25T21:35:09.015437Z",
     "start_time": "2020-07-25T21:35:08.104775Z"
    },
    "scrolled": false
   },
   "outputs": [
    {
     "data": {
      "text/plain": [
       "<matplotlib.collections.PathCollection at 0x7f22846366d8>"
      ]
     },
     "execution_count": 230,
     "metadata": {},
     "output_type": "execute_result"
    },
    {
     "data": {
      "image/png": "[encoded data removed]",
      "text/plain": [
       "<Figure size 1080x468 with 2 Axes>"
      ]
     },
     "metadata": {
      "needs_background": "dark"
     },
     "output_type": "display_data"
    }
   ],
   "source": [
    "grid, points = generate_data()\n",
    "west, south, east, north = points.unary_union.bounds\n",
    "\n",
    "fig, ax = plt.subplots(1, 2, figsize=(15, 6.5))\n",
    "\n",
    "for i, g in grid['geometry'].iteritems():\n",
    "    patch = PolygonPatch(g, fc='#dcdcdc', ec='r', zorder=2)\n",
    "    patch2 = PolygonPatch(g, fc='#dcdcdc', ec='r', zorder=2)\n",
    "    ax[0].add_patch(patch)\n",
    "    ax[1].add_patch(patch2)\n",
    "\n",
    "ax[0].set_xlim(west, east)\n",
    "ax[0].set_ylim(south, north)\n",
    "ax[1].set_xlim(west, east)\n",
    "ax[1].set_ylim(south, north)\n",
    "\n",
    "ax[1].scatter(points.iloc[:, 0].values, points.iloc[:, 1].values, \n",
    "              zorder=3, marker='.', color='b')"
   ]
  },
  {
   "cell_type": "code",
   "execution_count": null,
   "metadata": {
    "ExecuteTime": {
     "start_time": "2020-07-26T14:01:21.179Z"
    }
   },
   "outputs": [
    {
     "data": {
      "text/plain": [
       "<matplotlib.collections.PathCollection at 0x7f2216630fd0>"
      ]
     },
     "execution_count": 271,
     "metadata": {},
     "output_type": "execute_result"
    }
   ],
   "source": [
    "within = df_ref.query('grid == 22')\n",
    "outside = df_ref[~df_ref.isin(within)]\n",
    "\n",
    "fig, ax = plt.subplots(1, 2, figsize=(15, 6.5))\n",
    "\n",
    "for i, g in grid['geometry'].iteritems():\n",
    "    patch = PolygonPatch(g, fc='#dcdcdc', ec='r', zorder=2)\n",
    "    patch2 = PolygonPatch(g, fc='#dcdcdc', ec='r', zorder=2)\n",
    "    ax[0].add_patch(patch)\n",
    "    ax[1].add_patch(patch2)\n",
    "\n",
    "ax[0].set_xlim(west, east)\n",
    "ax[0].set_ylim(south, north)\n",
    "ax[1].set_xlim(west, east)\n",
    "ax[1].set_ylim(south, north)\n",
    "\n",
    "ax[0].scatter(points.iloc[:, 0].values, points.iloc[:, 1].values, \n",
    "              zorder=3, marker='.', color='b')\n",
    "\n",
    "ax[1].scatter(within['x'].values, within['y'].values, zorder=3, marker='.', color='r')\n",
    "ax[1].scatter(outside['x'].values, outside['y'].values, zorder=3, marker='.', color='b')"
   ]
  }
 ],
 "metadata": {
  "kernelspec": {
   "display_name": "Python 3",
   "language": "python",
   "name": "python3"
  },
  "language_info": {
   "codemirror_mode": {
    "name": "ipython",
    "version": 3
   },
   "file_extension": ".py",
   "mimetype": "text/x-python",
   "name": "python",
   "nbconvert_exporter": "python",
   "pygments_lexer": "ipython3",
   "version": "3.7.0"
  }
 },
 "nbformat": 4,
 "nbformat_minor": 2
}
